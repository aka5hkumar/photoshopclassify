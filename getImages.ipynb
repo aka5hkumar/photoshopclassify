{
 "cells": [
  {
   "cell_type": "code",
   "execution_count": 93,
   "metadata": {},
   "outputs": [],
   "source": [
    "import requests\n",
    "import json\n",
    "import os"
   ]
  },
  {
   "cell_type": "code",
   "execution_count": 106,
   "metadata": {},
   "outputs": [],
   "source": [
    "def getPosts(limit): # Get post IDs and respective images, returns two lists\n",
    "    resp_post = requests.get('https://www.reddit.com/r/photoshopbattles/top.json?t=all&limit={}'.format(limit))\n",
    "    posts_list=[]\n",
    "    if str(resp_post)=='<Response [200]>':\n",
    "        resp_json=json.loads(resp_post.text)\n",
    "        for i in range(0,limit):\n",
    "            post_id=resp_json['data']['children'][i]['data']['id']\n",
    "            post_img=resp_json['data']['children'][i]['data']['url']\n",
    "            posts_list.append([post_id,post_img])\n",
    "        return posts_list\n",
    "    else:\n",
    "        print(resp_post)\n",
    "        \n",
    "def getComments(post_id): # Get post IDs and respective images, returns two lists\n",
    "    resp_comm = requests.get('https://www.reddit.com/r/photoshopbattles/comments/{}.json?depth=1'.format(post_id))\n",
    "    comms_list=[]\n",
    "    if str(resp_comm)=='<Response [200]>':\n",
    "        resp_comm_json=json.loads(resp_comm.text)\n",
    "        for j in range(0,10):\n",
    "            comm_img=resp_comm_json[1]['data']['children'][j]['data']['body']\n",
    "            comm_img=cleanComment(comm_img)\n",
    "            comm_id=resp_comm_json[1]['data']['children'][j]['data']['id']\n",
    "            comms_list.append([post_id,comm_id,comm_img])\n",
    "        return comms_list\n",
    "    else:\n",
    "        print(resp_comm)\n",
    "        \n",
    "def cleanComment(comment):# Clean comment for URL. This needs working on \n",
    "    if comment.find(\"(\")==-1: \n",
    "        return comment\n",
    "    else:\n",
    "        comment=comment[comment.find(\"(\")+1:comment.find(\")\")]\n",
    "        return comment\n",
    "    \n",
    "\n",
    "def getPostImages(posts):\n",
    "    for i in range(len(posts)):\n",
    "        url = posts[i][1]\n",
    "        try:\n",
    "            resp = requests.get(url)\n",
    "            if resp.status_code == 200:\n",
    "                with open(os.getcwd()+'/images/posts/'+posts[i][0]+'.jpg', 'wb') as f:\n",
    "                    f.write(resp.content)\n",
    "                    print('Saved Image to '+'/images/posts/'+posts[i][0]+'.jpg')\n",
    "        except:\n",
    "            print('Failed to download '+url)\n",
    "\n",
    "def getCommentImages(comments):\n",
    "    for i in range(len(comments)):\n",
    "        url = comments[i][2]\n",
    "        try:\n",
    "            resp = requests.get(url)\n",
    "            if resp.status_code == 200:\n",
    "                with open(os.getcwd()+'/images/comments/'+comments[i][0]+'_'+comments[i][1]+'.jpg', 'wb') as f:\n",
    "                    f.write(resp.content)\n",
    "                    print('Saved Image to '+'/images/comments/'+comments[i][0]+'_'+comments[i][1]+'.jpg')\n",
    "        except:\n",
    "            print('Failed to download '+url)"
   ]
  },
  {
   "cell_type": "code",
   "execution_count": 57,
   "metadata": {},
   "outputs": [
    {
     "data": {
      "text/plain": [
       "[['71qvc7', 'https://i.redd.it/bn0qq8imofnz.jpg'],\n",
       " ['8z38mj', 'https://i.redd.it/h25aj9lpa5a11.jpg'],\n",
       " ['7r10s0', 'https://i.redd.it/kd907qbasma01.jpg'],\n",
       " ['76za3y', 'https://i.redd.it/nldd8smbsesz.jpg'],\n",
       " ['7l66ii', 'https://i.redd.it/6cohydckk6501.jpg'],\n",
       " ['djowc6', 'https://i.redd.it/rest6aqvfbt31.jpg'],\n",
       " ['f40731', 'https://i.redd.it/axqc3x1pwyg41.jpg'],\n",
       " ['6bna4r', 'https://i.redd.it/kjxdylf2l0yy.jpg'],\n",
       " ['81egm6', 'https://pbs.twimg.com/media/DPkbC7wW0AIBHbf.jpg'],\n",
       " ['6zg1pi', 'https://imgur.com/hvzYMy9.jpg']]"
      ]
     },
     "execution_count": 57,
     "metadata": {},
     "output_type": "execute_result"
    }
   ],
   "source": [
    "posts = getPosts(10)\n",
    "posts"
   ]
  },
  {
   "cell_type": "code",
   "execution_count": 85,
   "metadata": {
    "scrolled": true
   },
   "outputs": [
    {
     "name": "stdout",
     "output_type": "stream",
     "text": [
      "<Response [429]>\n",
      "<Response [429]>\n",
      "<Response [429]>\n",
      "<Response [429]>\n",
      "<Response [429]>\n",
      "<Response [429]>\n",
      "<Response [429]>\n"
     ]
    },
    {
     "data": {
      "text/plain": [
       "[['71qvc7', 'dncu3xj', 'https://i.imgur.com/uSK28O9.jpg'],\n",
       " ['71qvc7', 'dncrz74', 'https://i.imgur.com/VhBHgrU.jpg'],\n",
       " ['71qvc7', 'dnctce9', 'https://i.imgur.com/2063vS3.jpg'],\n",
       " ['71qvc7', 'dncsxxu', 'https://i.imgur.com/n09xBqS.jpg'],\n",
       " ['71qvc7', 'dncsvo9', 'https://i.imgur.com/WolSwsQ.jpg'],\n",
       " ['71qvc7', 'dncqpeo', 'https://i.imgur.com/ViQyB7c.jpg'],\n",
       " ['71qvc7', 'dncuk08', 'https://i.imgur.com/Ix5mAr4.jpg'],\n",
       " ['71qvc7',\n",
       "  'dncybd4',\n",
       "  \"https://imgur.com/a/Z68dA\\n\\nI knew I recognised that cat somewhere...!\\n\\nI'm not great at Photoshop, but it made me laugh!!\"],\n",
       " ['71qvc7', 'dncsced', 'http://i.imgur.com/1gmD79t.jpg'],\n",
       " ['71qvc7', 'dncrv3o', 'https://i.imgur.com/40L5vdT.png'],\n",
       " ['8z38mj', 'e2g0puj', 'https://imgur.com/a/Q0NvcRn'],\n",
       " ['8z38mj', 'e2fuh7d', 'https://imgur.com/gallery/AloEu8U'],\n",
       " ['8z38mj', 'e2g3qhk', 'https://imgur.com/a/0UB9x57'],\n",
       " ['8z38mj', 'e2fw9eo', 'https://imgur.com/GPTqxqe.jpg'],\n",
       " ['8z38mj', 'e2fr19z', 'https://i.imgur.com/vLkmqoM.jpg'],\n",
       " ['8z38mj', 'e2fwe13', 'https://i.imgur.com/6wQowRF.jpg'],\n",
       " ['8z38mj', 'e2g0eij', 'https://i.imgur.com/O6scbeF.png'],\n",
       " ['8z38mj', 'e2fvlfo', 'https://i.imgur.com/NfHOdZz.png'],\n",
       " ['8z38mj', 'e2ft24h', 'https://imgur.com/Tm0JsJQ'],\n",
       " ['8z38mj', 'e2fvg9j', 'https://imgur.com/a/rFqOj84'],\n",
       " ['7r10s0', 'dstfwtq', 'https://i.imgur.com/2SdL9JU.jpg'],\n",
       " ['7r10s0', 'dstfn1q', 'https://i.imgur.com/bqaDsj0.jpg'],\n",
       " ['7r10s0', 'dstluul', 'https://i.imgur.com/DMq8Acl.jpg'],\n",
       " ['7r10s0', 'dstesc4', 'https://i.imgur.com/rJ0rDq8.jpg'],\n",
       " ['7r10s0', 'dstl3jn', 'https://imgur.com/a/dRKtH'],\n",
       " ['7r10s0', 'dstiaf1', 'have a trippy day\\nhttps://i.imgur.com/GcyN5yS.gifv'],\n",
       " ['7r10s0', 'dstfiv2', 'https://i.imgur.com/UPHSlwz.jpg'],\n",
       " ['7r10s0', 'dstelj0', 'https://i.imgur.com/jXOMQx4.jpg'],\n",
       " ['7r10s0', 'dsttw9s', 'https://i.imgur.com/VWNS9bd.jpg'],\n",
       " ['7r10s0', 'dstgd46', 'https://i.imgur.com/9Md14r2.jpg']]"
      ]
     },
     "execution_count": 85,
     "metadata": {},
     "output_type": "execute_result"
    }
   ],
   "source": [
    "# Loop through comments of posts. I expect API to return 429 because of how much we are hitting it\n",
    "comments=[]\n",
    "for i in range(len(posts)):\n",
    "    comments_list = getComments(posts[i][0])\n",
    "    if comments_list is not None:\n",
    "        comments+=comments_list\n",
    "comments"
   ]
  },
  {
   "cell_type": "code",
   "execution_count": 107,
   "metadata": {},
   "outputs": [
    {
     "name": "stdout",
     "output_type": "stream",
     "text": [
      "Saved Image to /images/posts/71qvc7.jpg\n",
      "Saved Image to /images/posts/8z38mj.jpg\n",
      "Saved Image to /images/posts/7r10s0.jpg\n",
      "Saved Image to /images/posts/76za3y.jpg\n",
      "Saved Image to /images/posts/7l66ii.jpg\n",
      "Saved Image to /images/posts/djowc6.jpg\n",
      "Saved Image to /images/posts/f40731.jpg\n",
      "Saved Image to /images/posts/6bna4r.jpg\n",
      "Saved Image to /images/posts/81egm6.jpg\n",
      "Saved Image to /images/posts/6zg1pi.jpg\n"
     ]
    }
   ],
   "source": [
    "# Save post images\n",
    "getPostImages(posts)"
   ]
  },
  {
   "cell_type": "code",
   "execution_count": 108,
   "metadata": {
    "scrolled": true
   },
   "outputs": [
    {
     "name": "stdout",
     "output_type": "stream",
     "text": [
      "Saved Image to /images/comments/71qvc7_dncu3xj.jpg\n",
      "Saved Image to /images/comments/71qvc7_dncrz74.jpg\n",
      "Saved Image to /images/comments/71qvc7_dnctce9.jpg\n",
      "Saved Image to /images/comments/71qvc7_dncsxxu.jpg\n",
      "Saved Image to /images/comments/71qvc7_dncsvo9.jpg\n",
      "Saved Image to /images/comments/71qvc7_dncqpeo.jpg\n",
      "Saved Image to /images/comments/71qvc7_dncuk08.jpg\n",
      "Saved Image to /images/comments/71qvc7_dncsced.jpg\n",
      "Saved Image to /images/comments/71qvc7_dncrv3o.jpg\n",
      "Saved Image to /images/comments/8z38mj_e2g0puj.jpg\n",
      "Saved Image to /images/comments/8z38mj_e2fuh7d.jpg\n",
      "Saved Image to /images/comments/8z38mj_e2g3qhk.jpg\n",
      "Saved Image to /images/comments/8z38mj_e2fw9eo.jpg\n",
      "Saved Image to /images/comments/8z38mj_e2fr19z.jpg\n",
      "Saved Image to /images/comments/8z38mj_e2fwe13.jpg\n",
      "Saved Image to /images/comments/8z38mj_e2g0eij.jpg\n",
      "Saved Image to /images/comments/8z38mj_e2fvlfo.jpg\n",
      "Saved Image to /images/comments/8z38mj_e2ft24h.jpg\n",
      "Saved Image to /images/comments/8z38mj_e2fvg9j.jpg\n",
      "Saved Image to /images/comments/7r10s0_dstfwtq.jpg\n",
      "Saved Image to /images/comments/7r10s0_dstfn1q.jpg\n",
      "Saved Image to /images/comments/7r10s0_dstluul.jpg\n",
      "Saved Image to /images/comments/7r10s0_dstesc4.jpg\n",
      "Saved Image to /images/comments/7r10s0_dstl3jn.jpg\n",
      "Failed to download have a trippy day\n",
      "https://i.imgur.com/GcyN5yS.gifv\n",
      "Saved Image to /images/comments/7r10s0_dstfiv2.jpg\n",
      "Saved Image to /images/comments/7r10s0_dstelj0.jpg\n",
      "Saved Image to /images/comments/7r10s0_dsttw9s.jpg\n",
      "Saved Image to /images/comments/7r10s0_dstgd46.jpg\n"
     ]
    }
   ],
   "source": [
    "# Save Comment Images\n",
    "getCommentImages(comments)"
   ]
  },
  {
   "cell_type": "code",
   "execution_count": null,
   "metadata": {},
   "outputs": [],
   "source": []
  }
 ],
 "metadata": {
  "kernelspec": {
   "display_name": "Python 3",
   "language": "python",
   "name": "python3"
  },
  "language_info": {
   "codemirror_mode": {
    "name": "ipython",
    "version": 3
   },
   "file_extension": ".py",
   "mimetype": "text/x-python",
   "name": "python",
   "nbconvert_exporter": "python",
   "pygments_lexer": "ipython3",
   "version": "3.7.7"
  }
 },
 "nbformat": 4,
 "nbformat_minor": 4
}
