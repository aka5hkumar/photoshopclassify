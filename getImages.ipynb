{
 "cells": [
  {
   "cell_type": "code",
   "execution_count": 1,
   "metadata": {},
   "outputs": [],
   "source": [
    "import requests\n",
    "import json"
   ]
  },
  {
   "cell_type": "code",
   "execution_count": 2,
   "metadata": {},
   "outputs": [],
   "source": [
    "def getPosts(limit): # Get post IDs and respective images, returns two lists\n",
    "    resp_post = requests.get('https://www.reddit.com/r/photoshopbattles/top.json?t=all&limit={}'.format(limit))\n",
    "    posts_id_list=[]\n",
    "    posts_image_list=[]\n",
    "    if str(resp_post)=='<Response [200]>':\n",
    "        resp_json=json.loads(resp_post.text)\n",
    "        for i in range(0,limit):\n",
    "            post_id=resp_json['data']['children'][i]['data']['id']\n",
    "            post_img=resp_json['data']['children'][i]['data']['url']\n",
    "            # Get comments of this post ID\n",
    "            posts_id_list.append(post_id)\n",
    "            posts_image_list.append(post_img)\n",
    "        return (posts_id_list,posts_image_list)\n",
    "    else:\n",
    "        print(resp_post)\n",
    "        \n",
    "def getCommentImages(post_id): # Get post IDs and respective images, returns two lists\n",
    "    resp_comm = requests.get('https://www.reddit.com/r/photoshopbattles/comments/{}.json?depth=1'.format(post_id))\n",
    "    comms_id_list=[]\n",
    "    comms_img_list=[]\n",
    "    if str(resp_comm)=='<Response [200]>':\n",
    "        resp_comm_json=json.loads(resp_comm.text)\n",
    "        for j in range(0,10):\n",
    "            comm_img=resp_comm_json[1]['data']['children'][j]['data']['body']\n",
    "            comm_img=cleanComment(comm_img)\n",
    "            comm_id=resp_comm_json[1]['data']['children'][j]['data']['id']\n",
    "            comms_img_list.append(comm_img)\n",
    "            comms_id_list.append(comm_id)\n",
    "        return (comms_id_list,comms_img_list)\n",
    "    else:\n",
    "        print(resp_comm)\n",
    "        return (0,0)\n",
    "        \n",
    "def cleanComment(comment):\n",
    "    if comment.find(\"(\")==-1: # For original post image\n",
    "        return comment\n",
    "    else:\n",
    "        comment=comment[comment.find(\"(\")+1:comment.find(\")\")]\n",
    "        return comment\n",
    "    \n",
    "def labelImages(post_images,comment_images):\n",
    "    labeled_images=[]\n",
    "    for i in range(len(post_images)):\n",
    "        labeled_images.append([post_images[i],0])\n",
    "    for j in range(len(comment_images)):\n",
    "        labeled_images.append([comment_images[i],1])\n",
    "    return labeled_images"
   ]
  },
  {
   "cell_type": "code",
   "execution_count": 3,
   "metadata": {},
   "outputs": [
    {
     "data": {
      "text/plain": [
       "['71qvc7',\n",
       " '8z38mj',\n",
       " '7r10s0',\n",
       " '76za3y',\n",
       " '7l66ii',\n",
       " 'djowc6',\n",
       " 'f40731',\n",
       " '6bna4r',\n",
       " '81egm6',\n",
       " '6zg1pi']"
      ]
     },
     "execution_count": 3,
     "metadata": {},
     "output_type": "execute_result"
    }
   ],
   "source": [
    "(posts,post_images) = getPosts(10)\n",
    "posts"
   ]
  },
  {
   "cell_type": "code",
   "execution_count": 4,
   "metadata": {},
   "outputs": [
    {
     "data": {
      "text/plain": [
       "['https://i.redd.it/bn0qq8imofnz.jpg',\n",
       " 'https://i.redd.it/h25aj9lpa5a11.jpg',\n",
       " 'https://i.redd.it/kd907qbasma01.jpg',\n",
       " 'https://i.redd.it/nldd8smbsesz.jpg',\n",
       " 'https://i.redd.it/6cohydckk6501.jpg',\n",
       " 'https://i.redd.it/rest6aqvfbt31.jpg',\n",
       " 'https://i.redd.it/axqc3x1pwyg41.jpg',\n",
       " 'https://i.redd.it/kjxdylf2l0yy.jpg',\n",
       " 'https://pbs.twimg.com/media/DPkbC7wW0AIBHbf.jpg',\n",
       " 'https://imgur.com/hvzYMy9.jpg']"
      ]
     },
     "execution_count": 4,
     "metadata": {},
     "output_type": "execute_result"
    }
   ],
   "source": [
    "post_images"
   ]
  },
  {
   "cell_type": "code",
   "execution_count": 11,
   "metadata": {},
   "outputs": [
    {
     "data": {
      "text/plain": [
       "['dncu3xj',\n",
       " 'dncrz74',\n",
       " 'dnctce9',\n",
       " 'dncsxxu',\n",
       " 'dncsvo9',\n",
       " 'dncqpeo',\n",
       " 'dncuk08',\n",
       " 'dncybd4',\n",
       " 'dncsced',\n",
       " 'dncrv3o']"
      ]
     },
     "execution_count": 11,
     "metadata": {},
     "output_type": "execute_result"
    }
   ],
   "source": [
    "(comments,comment_images) = getCommentImages(posts[0])\n",
    "comments"
   ]
  },
  {
   "cell_type": "code",
   "execution_count": 12,
   "metadata": {},
   "outputs": [
    {
     "data": {
      "text/plain": [
       "['https://i.imgur.com/uSK28O9.jpg',\n",
       " 'https://i.imgur.com/VhBHgrU.jpg',\n",
       " 'https://i.imgur.com/2063vS3.jpg',\n",
       " 'https://i.imgur.com/n09xBqS.jpg',\n",
       " 'https://i.imgur.com/WolSwsQ.jpg',\n",
       " 'https://i.imgur.com/ViQyB7c.jpg',\n",
       " 'https://i.imgur.com/Ix5mAr4.jpg',\n",
       " \"https://imgur.com/a/Z68dA\\n\\nI knew I recognised that cat somewhere...!\\n\\nI'm not great at Photoshop, but it made me laugh!!\",\n",
       " 'http://i.imgur.com/1gmD79t.jpg',\n",
       " 'https://i.imgur.com/40L5vdT.png']"
      ]
     },
     "execution_count": 12,
     "metadata": {},
     "output_type": "execute_result"
    }
   ],
   "source": [
    "comment_images"
   ]
  },
  {
   "cell_type": "code",
   "execution_count": 13,
   "metadata": {},
   "outputs": [],
   "source": [
    "labeled_list=labelImages(post_images,comment_images)"
   ]
  },
  {
   "cell_type": "code",
   "execution_count": 14,
   "metadata": {},
   "outputs": [
    {
     "data": {
      "text/plain": [
       "[['https://i.redd.it/bn0qq8imofnz.jpg', 0],\n",
       " ['https://i.redd.it/h25aj9lpa5a11.jpg', 0],\n",
       " ['https://i.redd.it/kd907qbasma01.jpg', 0],\n",
       " ['https://i.redd.it/nldd8smbsesz.jpg', 0],\n",
       " ['https://i.redd.it/6cohydckk6501.jpg', 0],\n",
       " ['https://i.redd.it/rest6aqvfbt31.jpg', 0],\n",
       " ['https://i.redd.it/axqc3x1pwyg41.jpg', 0],\n",
       " ['https://i.redd.it/kjxdylf2l0yy.jpg', 0],\n",
       " ['https://pbs.twimg.com/media/DPkbC7wW0AIBHbf.jpg', 0],\n",
       " ['https://imgur.com/hvzYMy9.jpg', 0],\n",
       " ['https://i.imgur.com/40L5vdT.png', 1],\n",
       " ['https://i.imgur.com/40L5vdT.png', 1],\n",
       " ['https://i.imgur.com/40L5vdT.png', 1],\n",
       " ['https://i.imgur.com/40L5vdT.png', 1],\n",
       " ['https://i.imgur.com/40L5vdT.png', 1],\n",
       " ['https://i.imgur.com/40L5vdT.png', 1],\n",
       " ['https://i.imgur.com/40L5vdT.png', 1],\n",
       " ['https://i.imgur.com/40L5vdT.png', 1],\n",
       " ['https://i.imgur.com/40L5vdT.png', 1],\n",
       " ['https://i.imgur.com/40L5vdT.png', 1]]"
      ]
     },
     "execution_count": 14,
     "metadata": {},
     "output_type": "execute_result"
    }
   ],
   "source": [
    "labeled_list"
   ]
  }
 ],
 "metadata": {
  "kernelspec": {
   "display_name": "Python 3",
   "language": "python",
   "name": "python3"
  },
  "language_info": {
   "codemirror_mode": {
    "name": "ipython",
    "version": 3
   },
   "file_extension": ".py",
   "mimetype": "text/x-python",
   "name": "python",
   "nbconvert_exporter": "python",
   "pygments_lexer": "ipython3",
   "version": "3.7.7"
  }
 },
 "nbformat": 4,
 "nbformat_minor": 4
}
